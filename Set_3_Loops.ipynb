{
  "nbformat": 4,
  "nbformat_minor": 0,
  "metadata": {
    "colab": {
      "provenance": []
    },
    "kernelspec": {
      "name": "python3",
      "display_name": "Python 3"
    },
    "language_info": {
      "name": "python"
    }
  },
  "cells": [
    {
      "cell_type": "code",
      "execution_count": 11,
      "metadata": {
        "colab": {
          "base_uri": "https://localhost:8080/"
        },
        "id": "HIifQ21C5L6L",
        "outputId": "06074d2e-5132-4111-b451-8638dd1041ba"
      },
      "outputs": [
        {
          "output_type": "stream",
          "name": "stdout",
          "text": [
            "Enter an integer greater than 15\n",
            "The average of integers 1 to 5 is 3.0\n"
          ]
        }
      ],
      "source": [
        "\"\"\"\n",
        "10. Average of intergers\n",
        "    - User input integer N>1\n",
        "    - Program computes the average integers\n",
        "    - Print result\n",
        "\"\"\"\n",
        "\n",
        "num=int(input(\"Enter an integer greater than 1\"))\n",
        "\n",
        "total = 0\n",
        "for i in range(1, num + 1):\n",
        "  total += i\n",
        "avg = total / num\n",
        "\n",
        "if num <= 1:\n",
        "    print(\"Enter an integer greater than 1\")\n",
        "else:\n",
        "    print(\"The average of integers 1 to\", num, \"is\", avg)"
      ]
    },
    {
      "cell_type": "code",
      "source": [
        "\"\"\"\n",
        "11. A while loop with errors\n",
        "    - the 'While' should be 'while'\n",
        "    - \"While i < 11\" statement should include ':'\n",
        "    - \"print some_number\" wrong variable instead of 'Some_number' - print statement doesn't have (brackets)\n",
        "\"\"\"\n",
        "\n",
        "Some_number = 0\n",
        "i = 1\n",
        "\n",
        "while i < 11:\n",
        "  Some_number += i\n",
        "  i += 1\n",
        "print(Some_number)"
      ],
      "metadata": {
        "colab": {
          "base_uri": "https://localhost:8080/"
        },
        "id": "ShXh-4IHbkrZ",
        "outputId": "57276348-4ae1-458d-ba7d-ca017c715c6e"
      },
      "execution_count": 6,
      "outputs": [
        {
          "output_type": "stream",
          "name": "stdout",
          "text": [
            "55\n"
          ]
        }
      ]
    }
  ]
}